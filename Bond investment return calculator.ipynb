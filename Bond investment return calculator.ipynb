{
 "cells": [
  {
   "cell_type": "code",
   "execution_count": 1,
   "metadata": {},
   "outputs": [],
   "source": [
    "coupon_payment = {'monthly':12, 'quaterly':4, 'semi-annual':2, 'annual':1}\n",
    "\n",
    "class bond():\n",
    "    \n",
    "    def __init__(self,inital_investment,coupon_interest_rate,term,average_long_term_interest_rate):\n",
    "        self.inital_invt = inital_investment\n",
    "        self.coupon_int_rate = coupon_interest_rate # annual payment received from the bond\n",
    "        self.term = term\n",
    "        self.avg_long_term_int_rate = average_long_term_interest_rate #forcasted interest rate for the length of the bond\n",
    "    \n",
    "    def non_invt_total(self): # method returns the total investment amount if coupon payments are not re-invested\n",
    "        total_return = ((self.coupon_int_rate/ 100) * self.inital_invt) * self.term + self.inital_invt\n",
    "        return total_return\n",
    "    \n",
    "    def reinvestment_total(self): # method returns the total investment amount if coupon payments are re-invested\n",
    "        question = True\n",
    "        while question:\n",
    "            payment = input(\"Please enter monthly, quaterly, semi-annual or annual based on your coupon payments\").lower()\n",
    "            if payment!='monthly' and payment!= 'quaterly' and payment!= 'semi-annual' and payment !='annual':\n",
    "                print('Please type out monthly, quaterly, semi-annual or annual')\n",
    "            else:\n",
    "                n = coupon_payment[payment]\n",
    "                question = False\n",
    "        #n = 2 #number of coupon payments per year\n",
    "        pmt = (((self.coupon_int_rate / 100) * self.inital_invt) / n) #amount of each coupon payment\n",
    "        r = self.avg_long_term_int_rate / 100 #interest rate\n",
    "        t = self.term\n",
    "        \n",
    "        top_total = pmt - pmt * (1 + (r/n)) ** (n*t) # PMT - PMT(1 + r/n) ^ (n*t)\n",
    "        bottom_total = 1 - ( 1 + r/n) # 1 - (1 + r/n)\n",
    "        bond_invt_total = round(top_total/bottom_total + self.inital_invt, 2)\n",
    "        return bond_invt_total\n",
    "           \n",
    "    def __str__(self):\n",
    "        return (\"The total return on the bond investment will be $\" + str(self.reinvestment_total()) + \\\n",
    "                \". If the coupon returns are not reinvested than the total return from the bond investment will be $\" + \\\n",
    "                str(self.non_invt_total()))\n",
    "    \n"
   ]
  },
  {
   "cell_type": "code",
   "execution_count": 8,
   "metadata": {},
   "outputs": [],
   "source": [
    "Cad_bond = bond(1000,10,10,4.8)"
   ]
  },
  {
   "cell_type": "code",
   "execution_count": 3,
   "metadata": {},
   "outputs": [
    {
     "data": {
      "text/plain": [
       "1500.0"
      ]
     },
     "execution_count": 3,
     "metadata": {},
     "output_type": "execute_result"
    }
   ],
   "source": [
    "Cad_bond.non_invt_total()"
   ]
  },
  {
   "cell_type": "code",
   "execution_count": 10,
   "metadata": {},
   "outputs": [
    {
     "name": "stdout",
     "output_type": "stream",
     "text": [
      "Please enter monthly, quaterly, semi-annual or annual based on your coupon paymentsquaterly\n",
      "4\n"
     ]
    },
    {
     "data": {
      "text/plain": [
       "2273.88"
      ]
     },
     "execution_count": 10,
     "metadata": {},
     "output_type": "execute_result"
    }
   ],
   "source": [
    "Cad_bond.reinvestment_total()"
   ]
  },
  {
   "cell_type": "code",
   "execution_count": 9,
   "metadata": {},
   "outputs": [
    {
     "name": "stdout",
     "output_type": "stream",
     "text": [
      "Please enter monthly, quaterly, semi-annual or annual based on your coupon paymentsannual\n",
      "The total return on the bond investment will be $1623.05. If the coupon returns are not reinvested than the total return from the bond investment will be $1500.0\n"
     ]
    }
   ],
   "source": [
    "print(Cad_bond)"
   ]
  },
  {
   "cell_type": "code",
   "execution_count": null,
   "metadata": {},
   "outputs": [],
   "source": []
  },
  {
   "cell_type": "code",
   "execution_count": null,
   "metadata": {},
   "outputs": [],
   "source": []
  }
 ],
 "metadata": {
  "kernelspec": {
   "display_name": "Python 3",
   "language": "python",
   "name": "python3"
  },
  "language_info": {
   "codemirror_mode": {
    "name": "ipython",
    "version": 3
   },
   "file_extension": ".py",
   "mimetype": "text/x-python",
   "name": "python",
   "nbconvert_exporter": "python",
   "pygments_lexer": "ipython3",
   "version": "3.7.3"
  }
 },
 "nbformat": 4,
 "nbformat_minor": 2
}
