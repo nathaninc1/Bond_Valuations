{
 "cells": [
  {
   "cell_type": "code",
   "execution_count": 1,
   "metadata": {},
   "outputs": [],
   "source": [
    "class bond():\n",
    "    \n",
    "    def __init__(self,inital_investment,coupon_interest_rate,term,average_long_term_interest_rate):\n",
    "        self.inital_invt = inital_investment\n",
    "        self.coupon_int_rate = coupon_interest_rate\n",
    "        self.term = term\n",
    "        self.avg_long_term_int_rate = average_long_term_interest_rate\n",
    "    \n",
    "    def non_invt_total(self):\n",
    "        tot_return = ((self.coupon_int_rate/ 100) * self.inital_invt) * self.term + self.inital_invt\n",
    "        return tot_return\n",
    "    \n",
    "    def reinvestment_total(self):\n",
    "        pmt = (((self.coupon_int_rate / 100) * self.inital_invt) / 2)\n",
    "        r = self.avg_long_term_int_rate / 100\n",
    "        n = 2\n",
    "        t = self.term\n",
    "        \n",
    "        top_total = pmt - pmt * (1 + (r/n)) ** (n*t) \n",
    "        bottom_total = 1 - ( 1 + r/n)\n",
    "        bond_invt_total = round(top_total/bottom_total + self.inital_invt, 2)\n",
    "        return bond_invt_total\n",
    "           \n",
    "    def __str__(self):\n",
    "        return (\"The total return on the bond investment will be $\" + str(self.reinvestment_total()) + \\\n",
    "                \". If the coupon returns are not reinvested than the total return from the bond investment will be $\" + \\\n",
    "                str(self.non_invt_total()))\n",
    "    \n"
   ]
  },
  {
   "cell_type": "code",
   "execution_count": 2,
   "metadata": {},
   "outputs": [],
   "source": [
    "Cad_bond = bond(1000,5,10,4.8)"
   ]
  },
  {
   "cell_type": "code",
   "execution_count": 3,
   "metadata": {},
   "outputs": [
    {
     "data": {
      "text/plain": [
       "1500.0"
      ]
     },
     "execution_count": 3,
     "metadata": {},
     "output_type": "execute_result"
    }
   ],
   "source": [
    "Cad_bond.non_invt_total()"
   ]
  },
  {
   "cell_type": "code",
   "execution_count": 4,
   "metadata": {},
   "outputs": [
    {
     "data": {
      "text/plain": [
       "1632.23"
      ]
     },
     "execution_count": 4,
     "metadata": {},
     "output_type": "execute_result"
    }
   ],
   "source": [
    "Cad_bond.reinvestment_total()"
   ]
  },
  {
   "cell_type": "code",
   "execution_count": 5,
   "metadata": {},
   "outputs": [
    {
     "name": "stdout",
     "output_type": "stream",
     "text": [
      "The total return on the bond investment will be $1632.23. If the coupon returns are not reinvested than the total return from the bond investment will be $1500.0\n"
     ]
    }
   ],
   "source": [
    "print(Cad_bond)"
   ]
  },
  {
   "cell_type": "code",
   "execution_count": null,
   "metadata": {},
   "outputs": [],
   "source": []
  }
 ],
 "metadata": {
  "kernelspec": {
   "display_name": "Python 3",
   "language": "python",
   "name": "python3"
  },
  "language_info": {
   "codemirror_mode": {
    "name": "ipython",
    "version": 3
   },
   "file_extension": ".py",
   "mimetype": "text/x-python",
   "name": "python",
   "nbconvert_exporter": "python",
   "pygments_lexer": "ipython3",
   "version": "3.7.3"
  }
 },
 "nbformat": 4,
 "nbformat_minor": 2
}
